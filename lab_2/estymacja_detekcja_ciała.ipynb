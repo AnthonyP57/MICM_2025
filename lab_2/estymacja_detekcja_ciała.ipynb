{
 "cells": [
  {
   "cell_type": "markdown",
   "metadata": {},
   "source": [
    "Antoni Pawłowicz 191733\n",
    "\n",
    "<div align=\"center\">\n",
    "<em>\n",
    "METODY INTERAKCJI CZŁOWIEK MASZYNA</br></br>\n",
    "Laboratoria 2</br>\n",
    "Algorytmy estymacji i detekcji postawy ciała\n",
    "</em>"
   ]
  },
  {
   "cell_type": "code",
   "execution_count": 1,
   "metadata": {},
   "outputs": [],
   "source": [
    "import cv2\n",
    "import numpy as np\n",
    "import copy"
   ]
  },
  {
   "cell_type": "markdown",
   "metadata": {},
   "source": [
    "### _Zadanie 1_\n",
    "Używając wcześniej zdefiniowanych par połącz odpowiednie punkty liniami\n",
    "tworząc szkielet obiektu."
   ]
  },
  {
   "cell_type": "code",
   "execution_count": 2,
   "metadata": {},
   "outputs": [
    {
     "ename": "error",
     "evalue": "OpenCV(4.3.0) /tmp/pip-req-build-n_rdqh6s/opencv/modules/dnn/src/caffe/caffe_io.cpp:1121: error: (-2:Unspecified error) FAILED: fs.is_open(). Can't open \"OpenPose/pose_deploy_linevec_faster_4_stages.prototxt\" in function 'ReadProtoFromTextFile'\n",
     "output_type": "error",
     "traceback": [
      "\u001b[0;31m---------------------------------------------------------------------------\u001b[0m",
      "\u001b[0;31merror\u001b[0m                                     Traceback (most recent call last)",
      "\u001b[0;32m<ipython-input-2-32b882993e07>\u001b[0m in \u001b[0;36m<module>\u001b[0;34m\u001b[0m\n\u001b[1;32m      3\u001b[0m \u001b[0mcam_id\u001b[0m \u001b[0;34m=\u001b[0m \u001b[0;34m'/home/anthonyp57/VSCode_projects/MICM_2025/lab_3/man_vid.mp4'\u001b[0m\u001b[0;34m\u001b[0m\u001b[0;34m\u001b[0m\u001b[0m\n\u001b[1;32m      4\u001b[0m \u001b[0;34m\u001b[0m\u001b[0m\n\u001b[0;32m----> 5\u001b[0;31m \u001b[0mnet\u001b[0m \u001b[0;34m=\u001b[0m \u001b[0mcv2\u001b[0m\u001b[0;34m.\u001b[0m\u001b[0mdnn\u001b[0m\u001b[0;34m.\u001b[0m\u001b[0mreadNetFromCaffe\u001b[0m\u001b[0;34m(\u001b[0m\u001b[0mprotoTxt\u001b[0m\u001b[0;34m,\u001b[0m \u001b[0mwagi\u001b[0m\u001b[0;34m)\u001b[0m\u001b[0;34m\u001b[0m\u001b[0;34m\u001b[0m\u001b[0m\n\u001b[0m\u001b[1;32m      6\u001b[0m \u001b[0;34m\u001b[0m\u001b[0m\n\u001b[1;32m      7\u001b[0m \u001b[0mimg\u001b[0m \u001b[0;34m=\u001b[0m \u001b[0mcv2\u001b[0m\u001b[0;34m.\u001b[0m\u001b[0mimread\u001b[0m\u001b[0;34m(\u001b[0m\u001b[0mcam_id\u001b[0m\u001b[0;34m)\u001b[0m\u001b[0;34m\u001b[0m\u001b[0;34m\u001b[0m\u001b[0m\n",
      "\u001b[0;31merror\u001b[0m: OpenCV(4.3.0) /tmp/pip-req-build-n_rdqh6s/opencv/modules/dnn/src/caffe/caffe_io.cpp:1121: error: (-2:Unspecified error) FAILED: fs.is_open(). Can't open \"OpenPose/pose_deploy_linevec_faster_4_stages.prototxt\" in function 'ReadProtoFromTextFile'\n"
     ]
    }
   ],
   "source": [
    "protoTxt = \"OpenPose/pose_deploy_linevec_faster_4_stages.prototxt\"\n",
    "wagi = \"OpenPose/pose_iter_160000.caffemodel\"\n",
    "cam_id = '/home/anthonyp57/VSCode_projects/MICM_2025/lab_3/man_vid.mp4'\n",
    "\n",
    "net = cv2.dnn.readNetFromCaffe(protoTxt, wagi)\n",
    "\n",
    "img = cv2.imread(cam_id)\n",
    "\n",
    "# here for clarity\n",
    "part_to_idx = {\"Head\": 0, \"Neck\": 1, \"RShoulder\": 2, \"RElbow\": 3, \"RWrist\": 4,\n",
    "\"LShoulder\": 5, \"LElbow\": 6, \"LWrist\": 7, \"RHip\": 8, \"RKnee\": 9,\n",
    "\"RAnkle\": 10, \"LHip\": 11, \"LKnee\": 12, \"LAnkle\": 13, \"Chest\": 14,\n",
    "\"Background\": 15}\n",
    "\n",
    "BODY_PAIRS = [ [\"Head\", \"Neck\"], [\"Neck\", \"RShoulder\"], [\"RShoulder\",\n",
    "\"RElbow\"],[\"RElbow\", \"RWrist\"], [\"Neck\", \"LShoulder\"], [\"LShoulder\",\n",
    "\"LElbow\"],[\"LElbow\", \"LWrist\"], [\"Neck\", \"Chest\"], [\"Chest\", \"RHip\"],\n",
    "[\"RHip\", \"RKnee\"],[\"RKnee\", \"RAnkle\"], [\"Chest\", \"LHip\"], [\"LHip\",\n",
    "\"LKnee\"], [\"LKnee\", \"LAnkle\"] ]\n",
    "\n",
    "pairs_idx = [(part_to_idx[a[0]], part_to_idx[a[1]]) for a in BODY_PAIRS]\n",
    "part_indices = part_to_idx.values()[:-1] #no backgound\n",
    "part_names = part_to_idx.keys()[:-1]\n",
    "threshold = 0.6\n",
    "\n",
    "limb_pos = {i:None for i in part_indices}\n",
    "\n",
    "def lines_to_limbs(image):\n",
    "    img = copy.deepcopy(image)\n",
    "    inWidth = img.shape[1]\n",
    "    inHeight = img.shape[0]\n",
    "\n",
    "    inpBlob = cv2.dnn.blobFromImage(img, 1.0 / 255, (inWidth,\n",
    "    inHeight), (0, 0, 0), swapRB=False, crop=False)\n",
    "\n",
    "    # ustawienie jako input\n",
    "    net.setInput(inpBlob)\n",
    "    #predykcja\n",
    "    output = net.forward()\n",
    "\n",
    "    limb_map = output[0,:len(part_indices),:,:]\n",
    "\n",
    "    for i,l in enumerate(limb_map):\n",
    "\n",
    "        probMap = cv2.resize(l, (inWidth, inHeight))\n",
    "        # zamiana skali kolorów dla confidence map i oznaczenie kolorem czerwonym\n",
    "        probMap2 = cv2.cvtColor(probMap, cv2.COLOR_GRAY2RGB) #part prob\n",
    "        probMap2[:,:,0]=0\n",
    "        probMap2[:,:,1]=0\n",
    "\n",
    "        # img = cv2.cvtColor(img, cv2.COLOR_BGR2RGB)\n",
    "        img = cv2.addWeighted(img, 0.4, probMap2, 0.6, 0, dtype=cv2.CV_32F).astype(np.uint8)\n",
    "\n",
    "        minVal, prob, minLoc, point = cv2.minMaxLoc(probMap)\n",
    "\n",
    "        if prob > threshold :\n",
    "            x,y = point\n",
    "            x,y = int(x),int(y)\n",
    "            cv2.circle(img, (x,y), 5, (255, 255, 255), thickness=2, lineType=cv2.FILLED)\n",
    "            cv2.putText(img, f'{part_names[i]}', (x-5, y-5), cv2.FONT_HERSHEY_SIMPLEX, 0.8, (0, 0, 255), 3, lineType=cv2.LINE_AA)\n",
    "            limb_pos[i] = (x,y)\n",
    "        else :\n",
    "            limb_pos[i] = None\n",
    "\n",
    "    #draw lines between connecting body parts\n",
    "    for p in pairs_idx:\n",
    "        cv2.line(img, limb_pos[p[0], limb_pos[p[1]]], 3)\n",
    "\n",
    "    cv2.imshow('posenet', img)\n",
    "\n",
    "lines_to_limbs(img)"
   ]
  },
  {
   "cell_type": "markdown",
   "metadata": {},
   "source": [
    "### _Zadanie 2_\n",
    " Stwórz algorytm detekcji dowolnej pozy ciała na podstawie wzajemnego\n",
    "położenia punktów kluczowych (ich wzajemnych odległości, kątów pomiędzy\n",
    "połączeniami par itp.). Dokładnie opisz działanie algorytmu i przedstaw wyniki jego\n",
    "działania."
   ]
  },
  {
   "cell_type": "code",
   "execution_count": null,
   "metadata": {},
   "outputs": [
    {
     "name": "stdout",
     "output_type": "stream",
     "text": [
      "90.0\n"
     ]
    }
   ],
   "source": [
    "def calculate_angle_between_points(x, y, z):\n",
    "    v1 = y - x\n",
    "    v2 = z - y\n",
    "    \n",
    "    dot_product = np.dot(v1, v2)\n",
    "    magnitude_v1 = np.linalg.norm(v1)\n",
    "    magnitude_v2 = np.linalg.norm(v2)\n",
    "    cos_theta = dot_product / (magnitude_v1 * magnitude_v2)\n",
    "    cos_theta = np.clip(cos_theta, -1.0, 1.0)\n",
    "    angle = np.arccos(cos_theta)\n",
    "    angle = np.degrees(angle)\n",
    "\n",
    "    return angle\n",
    "\n",
    "def get_limb(prob):\n",
    "\n",
    "    minVal, prob, minLoc, point = cv2.minMaxLoc(prob)\n",
    "\n",
    "    if prob > threshold :\n",
    "        x,y = point\n",
    "        x,y = int(x),int(y)\n",
    "    \n",
    "    return x,y\n",
    "\n",
    "def is_cactus(image):\n",
    "    img = copy.deepcopy(image)\n",
    "    inWidth = img.shape[1]\n",
    "    inHeight = img.shape[0]\n",
    "\n",
    "    inpBlob = cv2.dnn.blobFromImage(img, 1.0 / 255, (inWidth,\n",
    "    inHeight), (0, 0, 0), swapRB=False, crop=False)\n",
    "\n",
    "    # ustawienie jako input\n",
    "    net.setInput(inpBlob)\n",
    "    #predykcja\n",
    "    output = net.forward()\n",
    "\n",
    "    limb_map = output[0,:len(part_indices),:,:]\n",
    "\n",
    "    neck = get_limb(limb_map[part_to_idx['Neck']])\n",
    "    lwrist = get_limb(limb_map[part_to_idx['LWrist']])\n",
    "    rwrist = get_limb(limb_map[part_to_idx['RWrist']])\n",
    "    lelbow = get_limb(limb_map[part_to_idx['LElbow']])\n",
    "    relbow = get_limb(limb_map[part_to_idx['RElbow']])\n",
    "    lshoulder = get_limb(limb_map[part_to_idx['LShoulder']])\n",
    "    rshoulder = get_limb(limb_map[part_to_idx['RShoulder']])\n",
    "\n",
    "    rshoulder_elbow_wrist_angle = calculate_angle_between_points(rshoulder, relbow, rwrist)\n",
    "    lshoulder_elbow_wrist_angle = calculate_angle_between_points(lshoulder, lelbow, lwrist)\n",
    "\n",
    "    \n",
    "\n",
    "\n",
    "    cv2.imshow('posenet', img)\n"
   ]
  },
  {
   "cell_type": "markdown",
   "metadata": {},
   "source": []
  }
 ],
 "metadata": {
  "kernelspec": {
   "display_name": "Interaction_env",
   "language": "python",
   "name": "python3"
  },
  "language_info": {
   "codemirror_mode": {
    "name": "ipython",
    "version": 3
   },
   "file_extension": ".py",
   "mimetype": "text/x-python",
   "name": "python",
   "nbconvert_exporter": "python",
   "pygments_lexer": "ipython3",
   "version": "3.6.8"
  }
 },
 "nbformat": 4,
 "nbformat_minor": 2
}

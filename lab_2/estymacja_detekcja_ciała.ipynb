{
 "cells": [
  {
   "cell_type": "markdown",
   "metadata": {},
   "source": [
    "Antoni Pawłowicz 191733\n",
    "\n",
    "<div align=\"center\">\n",
    "<em>\n",
    "METODY INTERAKCJI CZŁOWIEK MASZYNA</br></br>\n",
    "Laboratoria 2</br>\n",
    "Algorytmy estymacji i detekcji postawy ciała\n",
    "</em>"
   ]
  },
  {
   "cell_type": "code",
   "execution_count": null,
   "metadata": {},
   "outputs": [],
   "source": [
    "import cv2\n",
    "import numpy as np"
   ]
  },
  {
   "cell_type": "markdown",
   "metadata": {},
   "source": [
    "### _Zadanie 1_\n",
    "Używając wcześniej zdefiniowanych par połącz odpowiednie punkty liniami\n",
    "tworząc szkielet obiektu."
   ]
  },
  {
   "cell_type": "code",
   "execution_count": null,
   "metadata": {},
   "outputs": [],
   "source": [
    "protoTxt = \"OpenPose/pose_deploy_linevec_faster_4_stages.prototxt\"\n",
    "wagi = \"OpenPose/pose_iter_160000.caffemodel\"\n",
    "cam_id = '/home/anthonyp57/VSCode_projects/interakcja/lab_3/man_vid.mp4'\n",
    "\n",
    "net = cv2.dnn.readNetFromCaffe(protoTxt, wagi)\n",
    "\n",
    "cap = cv2.VideoCapture(cam_id)\n",
    "\n",
    "part_to_idx = {\"Head\": 0, \"Neck\": 1, \"RShoulder\": 2, \"RElbow\": 3, \"RWrist\": 4,\n",
    "\"LShoulder\": 5, \"LElbow\": 6, \"LWrist\": 7, \"RHip\": 8, \"RKnee\": 9,\n",
    "\"RAnkle\": 10, \"LHip\": 11, \"LKnee\": 12, \"LAnkle\": 13, \"Chest\": 14,\n",
    "\"Background\": 15}\n",
    "\n",
    "BODY_PAIRS = [ [\"Head\", \"Neck\"], [\"Neck\", \"RShoulder\"], [\"RShoulder\",\n",
    "\"RElbow\"],[\"RElbow\", \"RWrist\"], [\"Neck\", \"LShoulder\"], [\"LShoulder\",\n",
    "\"LElbow\"],[\"LElbow\", \"LWrist\"], [\"Neck\", \"Chest\"], [\"Chest\", \"RHip\"],\n",
    "[\"RHip\", \"RKnee\"],[\"RKnee\", \"RAnkle\"], [\"Chest\", \"LHip\"], [\"LHip\",\n",
    "\"LKnee\"], [\"LKnee\", \"LAnkle\"] ]\n",
    "\n",
    "pairs_idx = [(part_to_idx[a[0]], part_to_idx[a[1]]) for a in BODY_PAIRS]\n",
    "part_indices = part_to_idx.values()[:-1] #no backgound\n",
    "part_names = part_to_idx.keys()[:-1]\n",
    "\n",
    "res, img = cap.read()\n",
    "if not res:\n",
    "    raise IOError(\"webcam failure\")\n",
    "\n",
    "limb_pos = {i:None for i in part_indices}\n",
    "\n",
    "inWidth = img.shape[1]\n",
    "inHeight = img.shape[0]\n",
    "\n",
    "inpBlob = cv2.dnn.blobFromImage(img, 1.0 / 255, (inWidth,\n",
    "inHeight), (0, 0, 0), swapRB=False, crop=False)\n",
    "\n",
    "# ustawienie jako input\n",
    "net.setInput(inpBlob)\n",
    "#predykcja\n",
    "output = net.forward()\n",
    "\n",
    "limb_map = output[0,:len(part_indices),:,:]\n",
    "\n",
    "for i,l in enumerate(limb_map):\n",
    "\n",
    "    probMap = cv2.resize(probMap, (inWidth, inHeight))\n",
    "    # zamiana skali kolorów dla confidence map i oznaczenie kolorem czerwonym\n",
    "    probMap2 = cv2.cvtColor(probMap, cv2.COLOR_GRAY2RGB) #part prob\n",
    "    probMap2[:,:,0]=0\n",
    "    probMap2[:,:,1]=0\n",
    "\n",
    "    frame4=cv2.cvtColor(frame, cv2.COLOR_BGR2RGB)\n",
    "    frame5 = cv2.addWeighted(frame4, 0.4, probMap2, 0.6, 0, dtype=cv2.CV_32F).astype(np.uint8)\n",
    "\n",
    "    minVal, prob, minLoc, point = cv2.minMaxLoc(probMap)\n",
    "\n",
    "    if prob > threshold :\n",
    "        x,y = point\n",
    "        x,y = int(x),int(y)\n",
    "        cv2.circle(frame2, (x,y), 5, (255, 255, 255), thickness=2, lineType=cv2.FILLED)\n",
    "        # cv2.putText(frame2, \"{}\".format(i), (int(x), int(y)), cv2.FONT_HERSHEY_SIMPLEX, 0.8, (0, 0, 255), 3, lineType=cv2.LINE_AA)\n",
    "        cv2.putText(frame2, f'{part_names[i]}', (x-5, y-5), cv2.FONT_HERSHEY_SIMPLEX, 0.8, (0, 0, 255), 3, lineType=cv2.LINE_AA)\n",
    "        limb_pos[i] = (x,y)\n",
    "    else :\n",
    "        limb_pos[i] = None\n",
    "\n",
    "#draw lines between connecting body parts\n",
    "for p in pairs_idx:\n",
    "    cv2.line(frame, limb_pos[p[0], limb_pos[p[1]]], 3)\n",
    "\n",
    "cv2.imshow('posenet', frame)"
   ]
  },
  {
   "cell_type": "markdown",
   "metadata": {},
   "source": [
    "### _Zadanie 2_\n",
    " Stwórz algorytm detekcji dowolnej pozy ciała na podstawie wzajemnego\n",
    "położenia punktów kluczowych (ich wzajemnych odległości, kątów pomiędzy\n",
    "połączeniami par itp.). Dokładnie opisz działanie algorytmu i przedstaw wyniki jego\n",
    "działania."
   ]
  },
  {
   "cell_type": "code",
   "execution_count": null,
   "metadata": {},
   "outputs": [],
   "source": [
    "def angle_between_3_vectors(x, y, z):\n",
    "    shoulder = np.array(shoulder)\n",
    "    elbow = np.array(elbow)\n",
    "    wrist = np.array(wrist)\n",
    "\n",
    "    shoulder_elbow = elbow - shoulder\n",
    "    shoulder_elbow /= np.linalg.norm(shoulder_elbow) #normalize by norm to = 1\n",
    "\n",
    "    shoulder_wrist = wrist - shoulder\n",
    "    shoulder_wrist /= np.linalg.norm(shoulder_wrist)\n",
    "\n",
    "    angle = np.arccos(np.clip(np.dot(shoulder_elbow, shoulder_wrist), -1.0, 1.0)) #cos similarity inverse so to speak, clip for stability\n",
    "    return np.degrees(angle) #angle in degrees"
   ]
  },
  {
   "cell_type": "markdown",
   "metadata": {},
   "source": []
  }
 ],
 "metadata": {
  "kernelspec": {
   "display_name": "Python 3",
   "language": "python",
   "name": "python3"
  },
  "language_info": {
   "name": "python",
   "version": "3.12.3"
  }
 },
 "nbformat": 4,
 "nbformat_minor": 2
}
